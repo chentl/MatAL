{
 "cells": [
  {
   "cell_type": "code",
   "execution_count": 1,
   "metadata": {
    "collapsed": true,
    "jupyter": {
     "outputs_hidden": true
    },
    "tags": []
   },
   "outputs": [],
   "source": [
    "%load_ext autoreload\n",
    "%autoreload 2\n",
    "\n",
    "import lzma\n",
    "import dill\n",
    "import json\n",
    "import pandas as pd\n",
    "import shap\n",
    "from tqdm.auto import tqdm\n",
    "import numpy as np\n",
    "import tensorflow as tf\n",
    "from pathlib import Path\n",
    "\n",
    "import scienceplots\n",
    "\n",
    "import matplotlib.pyplot as plt\n",
    "import matplotlib as mpl\n",
    "\n",
    "from matal import load_model, load_data, auto_log, DATA_DIR, MODEL_DIR, cache_return"
   ]
  },
  {
   "cell_type": "code",
   "execution_count": 24,
   "metadata": {
    "scrolled": true,
    "tags": []
   },
   "outputs": [
    {
     "data": {
      "text/plain": [
       "{'VLTransmittance': MOVotingRegressor(estimators=[('14_VLTransmittance_1_VJ3HSBM3',\n",
       "                                MLPNetwork(input_norm=True,\n",
       "                                           name='14_VLTransmittance_1_VJ3HSBM3',\n",
       "                                           output_scale=100)),\n",
       "                               ('14_VLTransmittance_2_PCSTZBJN',\n",
       "                                MLPNetwork(input_norm=True,\n",
       "                                           name='14_VLTransmittance_2_PCSTZBJN',\n",
       "                                           output_scale=100)),\n",
       "                               ('14_VLTransmittance_3_VUUFLQTS',\n",
       "                                MLPNetwork(input_norm=True,\n",
       "                                           name='14_VLTransmittance_3_VUUFLQTS',\n",
       "                                           output_scale=100)),\n",
       "                               ('14_VLTransmittance_4_VJ3HSBM3',\n",
       "                                MLPNetwork(input_norm=True,\n",
       "                                           name='14_VLTransmittance_4_VJ3HSBM3',\n",
       "                                           output_scale=100)),\n",
       "                               ('14_VLTransmittance_5_PCSTZBJN',\n",
       "                                MLPNetwork(input_norm=True,\n",
       "                                           name='14_VLTransmittance_5_PCSTZBJN',\n",
       "                                           output_scale=100))],\n",
       "                   n_jobs=1),\n",
       " 'UVTransmittance': MOVotingRegressor(estimators=[('14_UVTransmittance_1_YBQID7E3',\n",
       "                                MLPNetwork(input_norm=True,\n",
       "                                           name='14_UVTransmittance_1_YBQID7E3',\n",
       "                                           output_scale=100)),\n",
       "                               ('14_UVTransmittance_2_6KHV4FHF',\n",
       "                                MLPNetwork(input_norm=True,\n",
       "                                           name='14_UVTransmittance_2_6KHV4FHF',\n",
       "                                           output_scale=100)),\n",
       "                               ('14_UVTransmittance_3_MRLC24YB',\n",
       "                                MLPNetwork(input_norm=True,\n",
       "                                           name='14_UVTransmittance_3_MRLC24YB',\n",
       "                                           output_scale=100)),\n",
       "                               ('14_UVTransmittance_4_YBQID7E3',\n",
       "                                MLPNetwork(input_norm=True,\n",
       "                                           name='14_UVTransmittance_4_YBQID7E3',\n",
       "                                           output_scale=100)),\n",
       "                               ('14_UVTransmittance_5_NR3RXEKR',\n",
       "                                MLPNetwork(input_norm=True,\n",
       "                                           name='14_UVTransmittance_5_NR3RXEKR',\n",
       "                                           output_scale=100))],\n",
       "                   n_jobs=1),\n",
       " 'IRTransmittance': MOVotingRegressor(estimators=[('14_IRTransmittance_1_5NCKTFOV',\n",
       "                                MLPNetwork(input_norm=True,\n",
       "                                           name='14_IRTransmittance_1_5NCKTFOV',\n",
       "                                           output_scale=100)),\n",
       "                               ('14_IRTransmittance_2_K2W7WHZI',\n",
       "                                MLPNetwork(input_norm=True,\n",
       "                                           name='14_IRTransmittance_2_K2W7WHZI',\n",
       "                                           output_scale=100)),\n",
       "                               ('14_IRTransmittance_3_NNVHFYAZ',\n",
       "                                MLPNetwork(input_norm=True,\n",
       "                                           name='14_IRTransmittance_3_NNVHFYAZ',\n",
       "                                           output_scale=100)),\n",
       "                               ('14_IRTransmittance_4_5NCKTFOV',\n",
       "                                MLPNetwork(input_norm=True,\n",
       "                                           name='14_IRTransmittance_4_5NCKTFOV',\n",
       "                                           output_scale=100)),\n",
       "                               ('14_IRTransmittance_5_K2W7WHZI',\n",
       "                                MLPNetwork(input_norm=True,\n",
       "                                           name='14_IRTransmittance_5_K2W7WHZI',\n",
       "                                           output_scale=100))],\n",
       "                   n_jobs=1),\n",
       " 'AshAreaRatio': MOVotingRegressor(estimators=[('14_AshAreaRatio_1_KJDYUJ7Q',\n",
       "                                MLPNetwork(input_norm=True,\n",
       "                                           name='14_AshAreaRatio_1_KJDYUJ7Q',\n",
       "                                           output_scale=1)),\n",
       "                               ('14_AshAreaRatio_2_VBGB4BBC',\n",
       "                                MLPNetwork(input_norm=True,\n",
       "                                           name='14_AshAreaRatio_2_VBGB4BBC',\n",
       "                                           output_scale=1)),\n",
       "                               ('14_AshAreaRatio_3_LYUFN6U2',\n",
       "                                MLPNetwork(input_norm=True,\n",
       "                                           name='14_AshAreaRatio_3_LYUFN6U2',\n",
       "                                           output_scale=1)),\n",
       "                               ('14_AshAreaRatio_4_KJDYUJ7Q',\n",
       "                                MLPNetwork(input_norm=True,\n",
       "                                           name='14_AshAreaRatio_4_KJDYUJ7Q',\n",
       "                                           output_scale=1)),\n",
       "                               ('14_AshAreaRatio_5_LYUFN6U2',\n",
       "                                MLPNetwork(input_norm=True,\n",
       "                                           name='14_AshAreaRatio_5_LYUFN6U2',\n",
       "                                           output_scale=1))],\n",
       "                   n_jobs=1),\n",
       " 'Stress': MOVotingRegressor(estimators=[('14_Stress_1_UUKZR6GS',\n",
       "                                MLPNetwork(input_norm=True,\n",
       "                                           name='14_Stress_1_UUKZR6GS',\n",
       "                                           output_scale=150)),\n",
       "                               ('14_Stress_2_HD3AWOLH',\n",
       "                                MLPNetwork(input_norm=True,\n",
       "                                           name='14_Stress_2_HD3AWOLH',\n",
       "                                           output_scale=150)),\n",
       "                               ('14_Stress_3_4T5P4FN2',\n",
       "                                MLPNetwork(input_norm=True,\n",
       "                                           name='14_Stress_3_4T5P4FN2',\n",
       "                                           output_scale=150)),\n",
       "                               ('14_Stress_4_UUKZR6GS',\n",
       "                                MLPNetwork(input_norm=True,\n",
       "                                           name='14_Stress_4_UUKZR6GS',\n",
       "                                           output_scale=150)),\n",
       "                               ('14_Stress_5_HD3AWOLH',\n",
       "                                MLPNetwork(input_norm=True,\n",
       "                                           name='14_Stress_5_HD3AWOLH',\n",
       "                                           output_scale=150))],\n",
       "                   n_jobs=1),\n",
       " 'Strain': MOVotingRegressor(estimators=[('14_Strain_1_FPW3TTSP',\n",
       "                                MLPNetwork(input_norm=True,\n",
       "                                           name='14_Strain_1_FPW3TTSP',\n",
       "                                           output_scale=0.3)),\n",
       "                               ('14_Strain_2_FSZXKUAP',\n",
       "                                MLPNetwork(input_norm=True,\n",
       "                                           name='14_Strain_2_FSZXKUAP',\n",
       "                                           output_scale=0.3)),\n",
       "                               ('14_Strain_3_B4MUW35Z',\n",
       "                                MLPNetwork(input_norm=True,\n",
       "                                           name='14_Strain_3_B4MUW35Z',\n",
       "                                           output_scale=0.3)),\n",
       "                               ('14_Strain_4_B4MUW35Z',\n",
       "                                MLPNetwork(input_norm=True,\n",
       "                                           name='14_Strain_4_B4MUW35Z',\n",
       "                                           output_scale=0.3)),\n",
       "                               ('14_Strain_5_FPW3TTSP',\n",
       "                                MLPNetwork(input_norm=True,\n",
       "                                           name='14_Strain_5_FPW3TTSP',\n",
       "                                           output_scale=0.3))],\n",
       "                   n_jobs=1),\n",
       " 'Modulus': MOVotingRegressor(estimators=[('14_Modulus_1_FGSM3KZ4',\n",
       "                                MLPNetwork(input_norm=True,\n",
       "                                           name='14_Modulus_1_FGSM3KZ4',\n",
       "                                           output_scale=10000)),\n",
       "                               ('14_Modulus_2_RQE4OHHA',\n",
       "                                MLPNetwork(input_norm=True,\n",
       "                                           name='14_Modulus_2_RQE4OHHA',\n",
       "                                           output_scale=10000)),\n",
       "                               ('14_Modulus_3_TFYU64M7',\n",
       "                                MLPNetwork(input_norm=True,\n",
       "                                           name='14_Modulus_3_TFYU64M7',\n",
       "                                           output_scale=10000)),\n",
       "                               ('14_Modulus_4_FGSM3KZ4',\n",
       "                                MLPNetwork(input_norm=True,\n",
       "                                           name='14_Modulus_4_FGSM3KZ4',\n",
       "                                           output_scale=10000)),\n",
       "                               ('14_Modulus_5_TFYU64M7',\n",
       "                                MLPNetwork(input_norm=True,\n",
       "                                           name='14_Modulus_5_TFYU64M7',\n",
       "                                           output_scale=10000))],\n",
       "                   n_jobs=1),\n",
       " 'CurveAlpha': MOVotingRegressor(estimators=[('14_CurveAlpha_1_T4P5J5H6',\n",
       "                                MLPNetwork(input_norm=True,\n",
       "                                           name='14_CurveAlpha_1_T4P5J5H6',\n",
       "                                           output_scale=1)),\n",
       "                               ('14_CurveAlpha_2_7KTHD5QH',\n",
       "                                MLPNetwork(input_norm=True,\n",
       "                                           name='14_CurveAlpha_2_7KTHD5QH',\n",
       "                                           output_scale=1)),\n",
       "                               ('14_CurveAlpha_3_S23L3EA2',\n",
       "                                MLPNetwork(input_norm=True,\n",
       "                                           name='14_CurveAlpha_3_S23L3EA2',\n",
       "                                           output_scale=1)),\n",
       "                               ('14_CurveAlpha_4_T4P5J5H6',\n",
       "                                MLPNetwork(input_norm=True,\n",
       "                                           name='14_CurveAlpha_4_T4P5J5H6',\n",
       "                                           output_scale=1)),\n",
       "                               ('14_CurveAlpha_5_7KTHD5QH',\n",
       "                                MLPNetwork(input_norm=True,\n",
       "                                           name='14_CurveAlpha_5_7KTHD5QH',\n",
       "                                           output_scale=1))],\n",
       "                   n_jobs=1),\n",
       " 'CurveBeta': MOVotingRegressor(estimators=[('14_CurveBeta_1_JVLC6YNK',\n",
       "                                MLPNetwork(input_norm=True,\n",
       "                                           name='14_CurveBeta_1_JVLC6YNK',\n",
       "                                           output_scale=1)),\n",
       "                               ('14_CurveBeta_2_3CNSUYG2',\n",
       "                                MLPNetwork(input_norm=True,\n",
       "                                           name='14_CurveBeta_2_3CNSUYG2',\n",
       "                                           output_scale=1)),\n",
       "                               ('14_CurveBeta_3_RE4VBJYO',\n",
       "                                MLPNetwork(input_norm=True,\n",
       "                                           name='14_CurveBeta_3_RE4VBJYO',\n",
       "                                           output_scale=1)),\n",
       "                               ('14_CurveBeta_4_JVLC6YNK',\n",
       "                                MLPNetwork(input_norm=True,\n",
       "                                           name='14_CurveBeta_4_JVLC6YNK',\n",
       "                                           output_scale=1)),\n",
       "                               ('14_CurveBeta_5_3CNSUYG2',\n",
       "                                MLPNetwork(input_norm=True,\n",
       "                                           name='14_CurveBeta_5_3CNSUYG2',\n",
       "                                           output_scale=1))],\n",
       "                   n_jobs=1)}"
      ]
     },
     "execution_count": 24,
     "metadata": {},
     "output_type": "execute_result"
    }
   ],
   "source": [
    "vmodel = load_model('vmodels_final')\n",
    "vmodel"
   ]
  },
  {
   "cell_type": "code",
   "execution_count": 12,
   "metadata": {
    "tags": []
   },
   "outputs": [],
   "source": [
    "X_COLS = ['MMT', 'CNF', 'GEL', 'GLY']\n",
    "Y_COLS = ['VLTransmittance', 'UVTransmittance', 'IRTransmittance',\n",
    "          'AshAreaRatio', \n",
    "          'Stress', 'Strain', 'Modulus']\n",
    "\n",
    "round_df = load_data('14.train_data__da0.table.csv')\n",
    "X_train, y_train = round_df[X_COLS], round_df[Y_COLS]"
   ]
  },
  {
   "cell_type": "code",
   "execution_count": 13,
   "metadata": {
    "tags": []
   },
   "outputs": [
    {
     "data": {
      "application/vnd.jupyter.widget-view+json": {
       "model_id": "b257d2f08e854cfd8c8bd124ba14dd82",
       "version_major": 2,
       "version_minor": 0
      },
      "text/plain": [
       "  0%|          | 0/7 [00:00<?, ?it/s]"
      ]
     },
     "metadata": {},
     "output_type": "display_data"
    },
    {
     "data": {
      "application/vnd.jupyter.widget-view+json": {
       "model_id": "582f617370b942d4bc73b8a0ba40b559",
       "version_major": 2,
       "version_minor": 0
      },
      "text/plain": [
       "  0%|          | 0/7 [00:00<?, ?it/s]"
      ]
     },
     "metadata": {},
     "output_type": "display_data"
    }
   ],
   "source": [
    "explainer_lut = {y: shap.explainers.Exact(vmodel[y].predict, X_train) for y in tqdm(Y_COLS)}\n",
    "shap_values_lut = {y: explainer_lut[y](X_train) for y in tqdm(Y_COLS)}"
   ]
  },
  {
   "cell_type": "code",
   "execution_count": 23,
   "metadata": {
    "tags": []
   },
   "outputs": [
    {
     "name": "stderr",
     "output_type": "stream",
     "text": [
      "No data for colormapping provided via 'c'. Parameters 'vmin', 'vmax' will be ignored\n"
     ]
    },
    {
     "data": {
      "text/plain": [
       "Text(0.5, -1.777777777777784, 'SHAP Value on $T_{vis}$')"
      ]
     },
     "execution_count": 23,
     "metadata": {},
     "output_type": "execute_result"
    },
    {
     "data": {
      "image/png": "[encoded data removed]",
      "text/plain": [
       "<Figure size 350x250 with 2 Axes>"
      ]
     },
     "metadata": {},
     "output_type": "display_data"
    }
   ],
   "source": [
    "import copy\n",
    "import shap\n",
    "\n",
    "src_names = ['MMT', 'CNF', 'Gelatin', 'Glycerol']\n",
    "\n",
    "shap.plots._labels.labels['FEATURE_VALUE_LOW'] = '0'\n",
    "shap.plots._labels.labels['FEATURE_VALUE_HIGH'] = '100'\n",
    "\n",
    "mpl.rcParams['font.size'] = 12\n",
    "mpl.rcParams['font.family'] = 'Arial'\n",
    "# mpl.rcParams['mathtext.default'] = 'regular'\n",
    "mpl.rcParams['mathtext.default'] = 'it'\n",
    "\n",
    "x_jitter = 0\n",
    "y_jitter = 0\n",
    "\n",
    "d = []\n",
    "cmap  =  shap.plots.colors.red_blue\n",
    "\n",
    "y = 'UVTransmittance'\n",
    "y_label = '$T_{vis}$'\n",
    "\n",
    "\n",
    "v = copy.deepcopy(shap_values_lut[y])\n",
    "vmax = np.abs(v.values).max()\n",
    "vmin = - np.abs(v.values).max()\n",
    "v.values = (v.values - vmin) / (vmax - vmin) * 2.0 - 1.0\n",
    "d.append(pd.DataFrame(v.values, columns=[f'{y}_{s}' for s  in src_names]))\n",
    "v.base_values = (v.base_values - vmin) / (vmax - vmin) * 2.0 - 1.0\n",
    "\n",
    "shap.summary_plot(v, X_train, feature_names = src_names, plot_size=(3.5, 2.5), sort=False, show=False, \n",
    "               color_bar_label='Weight Precentage (%)',  cmap=cmap)\n",
    "fig, ax = plt.gcf(), plt.gca()\n",
    "ax.set_ylim(-0.5, 3.5)\n",
    "ax.set_xlim(-1.1, 1.1)\n",
    "ax.set_xlabel(f'SHAP Value on {y_label}')\n"
   ]
  }
 ],
 "metadata": {
  "kernelspec": {
   "display_name": "Python 3 (ipykernel)",
   "language": "python",
   "name": "python3"
  },
  "language_info": {
   "codemirror_mode": {
    "name": "ipython",
    "version": 3
   },
   "file_extension": ".py",
   "mimetype": "text/x-python",
   "name": "python",
   "nbconvert_exporter": "python",
   "pygments_lexer": "ipython3",
   "version": "3.10.8"
  }
 },
 "nbformat": 4,
 "nbformat_minor": 4
}
